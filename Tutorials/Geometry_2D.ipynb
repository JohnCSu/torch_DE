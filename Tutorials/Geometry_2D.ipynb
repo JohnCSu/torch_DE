{
 "cells": [
  {
   "cell_type": "code",
   "execution_count": 5,
   "metadata": {},
   "outputs": [
    {
     "ename": "ImportError",
     "evalue": "attempted relative import with no known parent package",
     "output_type": "error",
     "traceback": [
      "\u001b[1;31m---------------------------------------------------------------------------\u001b[0m",
      "\u001b[1;31mImportError\u001b[0m                               Traceback (most recent call last)",
      "\u001b[1;32mc:\\Users\\John Su\\Downloads\\Pytorch PINNs\\Tutorials\\Geometry_2D.ipynb Cell 1\u001b[0m in \u001b[0;36m<cell line: 4>\u001b[1;34m()\u001b[0m\n\u001b[0;32m      <a href='vscode-notebook-cell:/c%3A/Users/John%20Su/Downloads/Pytorch%20PINNs/Tutorials/Geometry_2D.ipynb#W0sZmlsZQ%3D%3D?line=1'>2</a>\u001b[0m \u001b[39mfrom\u001b[39;00m \u001b[39mscipy\u001b[39;00m\u001b[39m.\u001b[39;00m\u001b[39mspatial\u001b[39;00m \u001b[39mimport\u001b[39;00m Delaunay\n\u001b[0;32m      <a href='vscode-notebook-cell:/c%3A/Users/John%20Su/Downloads/Pytorch%20PINNs/Tutorials/Geometry_2D.ipynb#W0sZmlsZQ%3D%3D?line=2'>3</a>\u001b[0m \u001b[39mimport\u001b[39;00m \u001b[39mmatplotlib\u001b[39;00m\u001b[39m.\u001b[39;00m\u001b[39mpyplot\u001b[39;00m \u001b[39mas\u001b[39;00m \u001b[39mplt\u001b[39;00m\n\u001b[1;32m----> <a href='vscode-notebook-cell:/c%3A/Users/John%20Su/Downloads/Pytorch%20PINNs/Tutorials/Geometry_2D.ipynb#W0sZmlsZQ%3D%3D?line=3'>4</a>\u001b[0m \u001b[39mfrom\u001b[39;00m \u001b[39m.\u001b[39;00m\u001b[39m.\u001b[39;00m\u001b[39msrc\u001b[39;00m \u001b[39mimport\u001b[39;00m geometry\n\u001b[0;32m      <a href='vscode-notebook-cell:/c%3A/Users/John%20Su/Downloads/Pytorch%20PINNs/Tutorials/Geometry_2D.ipynb#W0sZmlsZQ%3D%3D?line=4'>5</a>\u001b[0m \u001b[39mimport\u001b[39;00m \u001b[39mnumpy\u001b[39;00m \u001b[39mas\u001b[39;00m \u001b[39mnp\u001b[39;00m\n",
      "\u001b[1;31mImportError\u001b[0m: attempted relative import with no known parent package"
     ]
    }
   ],
   "source": [
    "from shapely.geometry import Polygon,Point\n",
    "from scipy.spatial import Delaunay\n",
    "import matplotlib.pyplot as plt\n",
    "from ..src import geometry\n",
    "import numpy as np"
   ]
  },
  {
   "cell_type": "markdown",
   "metadata": {},
   "source": [
    "# Geometry Tutorial\n",
    "\n",
    "torch_DE uses shapely package to define 2D geometry. As such many of the functions outlined in this tutorial are 100% compatible with any Polygon object from shapely"
   ]
  },
  {
   "cell_type": "code",
   "execution_count": null,
   "metadata": {},
   "outputs": [],
   "source": [
    "num_points = 1024\n",
    "a = Circle((0,0),r =5,num_points = num_points)\n",
    "b = Circle((-0.5,0),r =1,num_points = num_points)\n",
    "c = Circle((0.5,0),r =1,num_points = num_points)\n",
    "\n",
    "\n",
    "# f = Circle((2,1),r =1)\n",
    "d = Domain2D(base = a)\n",
    "e = Domain2D(base = b) \n",
    "e.merge(c)\n",
    "\n",
    "d.remove(e,names = ['hole'])\n",
    "d.Domain\n",
    "\n",
    "d.create_boundary_group('hole','wall-1')\n",
    "d.Domain\n",
    "\n"
   ]
  },
  {
   "cell_type": "code",
   "execution_count": null,
   "metadata": {},
   "outputs": [],
   "source": [
    "a = Rectangle(((0,0),3,3),'midpoint')\n",
    "b = Rectangle(((0,1.5),1,1),'midpoint')\n",
    "\n",
    "c = Domain2D(base = a)\n",
    "c.remove(b,names = ['hole'])\n",
    "c.Domain"
   ]
  },
  {
   "cell_type": "code",
   "execution_count": null,
   "metadata": {},
   "outputs": [],
   "source": [
    "sampled_points = d.generate_points(100000)\n",
    "\n",
    "plt.scatter(sampled_points[:,0],sampled_points[:,1],s=1)\n",
    "# triangulate_shape(d.Domain,show_plot=True)"
   ]
  }
 ],
 "metadata": {
  "kernelspec": {
   "display_name": "Python 3",
   "language": "python",
   "name": "python3"
  },
  "language_info": {
   "codemirror_mode": {
    "name": "ipython",
    "version": 3
   },
   "file_extension": ".py",
   "mimetype": "text/x-python",
   "name": "python",
   "nbconvert_exporter": "python",
   "pygments_lexer": "ipython3",
   "version": "3.9.13"
  },
  "orig_nbformat": 4
 },
 "nbformat": 4,
 "nbformat_minor": 2
}
